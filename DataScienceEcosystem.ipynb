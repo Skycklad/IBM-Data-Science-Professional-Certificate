{
 "cells": [
  {
   "cell_type": "markdown",
   "id": "cd51d876-faba-4888-af5b-0cc8fe366083",
   "metadata": {},
   "source": [
    "# Data Science Tools and Ecosystem"
   ]
  },
  {
   "cell_type": "markdown",
   "id": "9d1287b0-4124-4774-af3a-ced4b1fc6e8c",
   "metadata": {},
   "source": [
    "In this notebook, Data Science Tools and Ecosystem are summarized"
   ]
  },
  {
   "cell_type": "markdown",
   "id": "79df8876-fa23-4342-8ec6-be5153b04cc7",
   "metadata": {
    "scrolled": true
   },
   "source": [
    "**Objectives:**\n",
    "- List popular languages for Data Science\n",
    "- Arithmetic expressions in Python\n",
    "- Open Source Tool for Data Science"
   ]
  },
  {
   "cell_type": "markdown",
   "id": "17cbbf6d-a853-4547-8ae5-806bdb3ef7bb",
   "metadata": {},
   "source": [
    "Some of the popular languages that Data Scientists use are:\n",
    "1. Phyton\n",
    "2. R\n",
    "3. Julia"
   ]
  },
  {
   "cell_type": "markdown",
   "id": "aeb42c44-c23d-44ec-9e84-680f4e8af96a",
   "metadata": {},
   "source": [
    "Some of the commonly used libraries used by Data Scientists include:\n",
    "1. Pandas\n",
    "2. Matplotlib\n",
    "3. Numpy\n",
    "\n"
   ]
  },
  {
   "cell_type": "markdown",
   "id": "8e82e834-2add-475c-9550-22bd0482c1f8",
   "metadata": {},
   "source": [
    "|Data Science Tools|\n",
    "|------------------|\n",
    "|Jupyter Notebook|\n",
    "|RStudio|\n",
    "|Spyder|"
   ]
  },
  {
   "cell_type": "markdown",
   "id": "19e2caed-e027-4a74-81e4-28a7c82307c1",
   "metadata": {},
   "source": [
    "### Below are a few examples of evaluating arithmetic expressions in Python\n",
    "a = 2  \n",
    "b = 5  \n",
    "c = 2 + 5  \n"
   ]
  },
  {
   "cell_type": "code",
   "execution_count": 14,
   "id": "b658a7b5-7d53-45ef-9eb4-080cab2f7b83",
   "metadata": {},
   "outputs": [
    {
     "data": {
      "text/plain": [
       "17"
      ]
     },
     "execution_count": 14,
     "metadata": {},
     "output_type": "execute_result"
    }
   ],
   "source": [
    "# This a simple arithmetic expression to mutiply then add integers.\n",
    "(3*4)+5\n"
   ]
  },
  {
   "cell_type": "code",
   "execution_count": 15,
   "id": "51d30997-9f80-4eaf-98e8-810d822642e8",
   "metadata": {},
   "outputs": [
    {
     "name": "stdout",
     "output_type": "stream",
     "text": [
      "Hours =  3.3333333333333335\n"
     ]
    }
   ],
   "source": [
    "# This will convert 200 minutes to hours by diving by 60\n",
    "minutes = 200\n",
    "hours = minutes / 60\n",
    "print (\"Hours = \",hours)"
   ]
  },
  {
   "cell_type": "markdown",
   "id": "65d4a7e0-ba52-477b-a50f-1158cef130a4",
   "metadata": {},
   "source": [
    "## Author \n",
    "Constantinoff, Juan D"
   ]
  },
  {
   "cell_type": "code",
   "execution_count": null,
   "id": "8a260939-5b2e-46fe-9f04-e9aaa56a60a8",
   "metadata": {},
   "outputs": [],
   "source": []
  }
 ],
 "metadata": {
  "kernelspec": {
   "display_name": "Python 3 (ipykernel)",
   "language": "python",
   "name": "python3"
  },
  "language_info": {
   "codemirror_mode": {
    "name": "ipython",
    "version": 3
   },
   "file_extension": ".py",
   "mimetype": "text/x-python",
   "name": "python",
   "nbconvert_exporter": "python",
   "pygments_lexer": "ipython3",
   "version": "3.12.8"
  }
 },
 "nbformat": 4,
 "nbformat_minor": 5
}
